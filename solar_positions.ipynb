{
 "cells": [
  {
   "cell_type": "code",
   "execution_count": 2,
   "metadata": {},
   "outputs": [],
   "source": [
    "import math\n",
    "from pysolar.solar import *\n",
    "from datetime import datetime, timedelta\n",
    "import pytz\n",
    "import numpy as np"
   ]
  },
  {
   "cell_type": "code",
   "execution_count": 3,
   "metadata": {},
   "outputs": [],
   "source": [
    "# san teodoro, sardinia\n",
    "latitude =40.7839527\n",
    "longitude=9.6715123"
   ]
  },
  {
   "cell_type": "code",
   "execution_count": 17,
   "metadata": {},
   "outputs": [],
   "source": [
    "date = datetime(2022, 7, 23, 6, 0, 0,0)\n",
    "# tz = pytz.timezone(\"Europe/Athens\")\n",
    "tz = pytz.timezone(\"Europe/Rome\")\n",
    "date=tz.localize(date)"
   ]
  },
  {
   "cell_type": "code",
   "execution_count": 18,
   "metadata": {},
   "outputs": [
    {
     "name": "stdout",
     "output_type": "stream",
     "text": [
      "6 , -2.380685157448613 , 60.67834390404039\n",
      "7 , 8.04910890949524 , 70.28519829352435\n",
      "8 , 18.93441535917858 , 79.41263135886014\n",
      "9 , 30.19338923053498 , 88.71309383970016\n",
      "10 , 41.49628943189399 , 99.11224522849612\n",
      "11 , 52.413831448205286 , 112.24370301243968\n",
      "12 , 62.081975350996935 , 131.4232248010439\n",
      "13 , 68.4154377165913 , 162.00466250164976\n",
      "14 , 68.13116074794604 , 200.6817780151644\n",
      "15 , 61.428648995016246 , 230.2717328387705\n",
      "16 , 51.61126171609539 , 248.81808711820503\n",
      "17 , 40.6365500688907 , 261.6537113793107\n",
      "18 , 29.315304693610994 , 271.92119017049697\n"
     ]
    },
    {
     "name": "stderr",
     "output_type": "stream",
     "text": [
      "/home/jjc/envs/py_misc/lib/python3.9/site-packages/pysolar/solartime.py:111: UserWarning: I don't know about leap seconds after 2021\n",
      "  warnings.warn \\\n"
     ]
    }
   ],
   "source": [
    "res = []\n",
    "for i in range(13):\n",
    "    \n",
    "    alt=get_altitude(latitude, longitude, date)\n",
    "    az=get_azimuth(latitude,longitude,date)\n",
    "    print(6+i,\",\", alt,\",\", az)\n",
    "    \n",
    "    res.append({'date':date.isoformat(),'hour':6+i,'alt':alt,'az':az})\n",
    "    date = date + timedelta(minutes=60)\n",
    "\n",
    "# res"
   ]
  },
  {
   "cell_type": "code",
   "execution_count": null,
   "metadata": {},
   "outputs": [],
   "source": [
    "6 , -2.380685157448613 , 60.67834390404039\n",
    "7 , 8.04910890949524 , 70.28519829352435\n",
    "8 , 18.93441535917858 , 79.41263135886014\n",
    "9 , 30.19338923053498 , 88.71309383970016\n",
    "10 , 41.49628943189399 , 99.11224522849612\n",
    "11 , 52.413831448205286 , 112.24370301243968\n",
    "12 , 62.081975350996935 , 131.4232248010439\n",
    "13 , 68.4154377165913 , 162.00466250164976\n",
    "14 , 68.13116074794604 , 200.6817780151644\n",
    "15 , 61.428648995016246 , 230.2717328387705\n",
    "16 , 51.61126171609539 , 248.81808711820503\n",
    "17 , 40.6365500688907 , 261.6537113793107\n",
    "18 , 29.315304693610994 , 271.92119017049697"
   ]
  }
 ],
 "metadata": {
  "kernelspec": {
   "display_name": "Python 3 (ipykernel)",
   "language": "python",
   "name": "python3"
  },
  "language_info": {
   "codemirror_mode": {
    "name": "ipython",
    "version": 3
   },
   "file_extension": ".py",
   "mimetype": "text/x-python",
   "name": "python",
   "nbconvert_exporter": "python",
   "pygments_lexer": "ipython3",
   "version": "3.9.2"
  },
  "vscode": {
   "interpreter": {
    "hash": "9f1ba45a0636bd146e6442f336be57acbee7b519685b65d352f1e253150fd991"
   }
  }
 },
 "nbformat": 4,
 "nbformat_minor": 2
}
