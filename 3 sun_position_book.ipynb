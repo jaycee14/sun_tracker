{
 "cells": [
  {
   "cell_type": "code",
   "execution_count": 13,
   "id": "2a964eec",
   "metadata": {},
   "outputs": [],
   "source": [
    "import time\n",
    "import math\n",
    "from datetime import datetime"
   ]
  },
  {
   "cell_type": "code",
   "execution_count": 2,
   "id": "0426c628",
   "metadata": {},
   "outputs": [],
   "source": [
    "def number_range(x,rmin,rmax):\n",
    "    \n",
    "    shift_x = x-rmin\n",
    "    delta = rmax-rmin\n",
    "    \n",
    "#     print(shift_x,delta)\n",
    "    \n",
    "    return (((shift_x % delta) +delta) % delta) + rmin"
   ]
  },
  {
   "cell_type": "code",
   "execution_count": 3,
   "id": "e7527707",
   "metadata": {},
   "outputs": [
    {
     "data": {
      "text/plain": [
       "500"
      ]
     },
     "execution_count": 3,
     "metadata": {},
     "output_type": "execute_result"
    }
   ],
   "source": [
    "number_range(500, 10,1000)"
   ]
  },
  {
   "cell_type": "code",
   "execution_count": 4,
   "id": "17daa727",
   "metadata": {},
   "outputs": [
    {
     "data": {
      "text/plain": [
       "(490, 1480, 490)"
      ]
     },
     "execution_count": 4,
     "metadata": {},
     "output_type": "execute_result"
    }
   ],
   "source": [
    "490 % 990, 490 % 990 + 990, (((490 % 990) +990) % 990)"
   ]
  },
  {
   "cell_type": "raw",
   "id": "a15843bc",
   "metadata": {},
   "source": [
    "def sun_position(ticks, tz, lat, lon, debug=False):\n",
    "    \n",
    "    #constants\n",
    "    tau = math.pi * 2.0\n",
    "    rpd = math.pi / 180.0\n",
    "    \n",
    "    # lat / lon in radians\n",
    "    rlat = lat * rpd\n",
    "    rlon = lon * rpd\n",
    "    if debug: print(f'rlat: {rlat}, rlon:{rlon}')\n",
    "    \n",
    "    #day num\n",
    "    dnum = (ticks / 86400.0)  - 10957.791666666667 - (tz / 24.0)\n",
    "#             ticks in days - days 1/1/1970 -> 1/1/2000 - timezone fraction\n",
    "#     dnum = 7284.21467592593\n",
    "\n",
    "    if debug: print(f'dnum: {dnum}')\n",
    "    \n",
    "    #mean lon of sun\n",
    "    slon =  number_range(dnum * 0.01720279239 + 4.894967873,0, tau)\n",
    "    if debug: print(f'slon: {slon}')\n",
    "    \n",
    "    # mean anomaly of sun\n",
    "    sano = number_range(dnum * 0.01720197034 + 6.240040768 ,0, tau)\n",
    "    if debug: print(f'sano: {sano}')\n",
    "    \n",
    "    # ecliptic lon of the sun\n",
    "    ecli = slon + 0.03342305518 * math.sin(sano) + 0.0003490658504 * math.sin(2*sano)\n",
    "    if debug : print(f'ecli: {ecli}')\n",
    "        \n",
    "    #obliquity of the ecliptic\n",
    "    obli = 0.4090877234 - 0.000000006981317008 * dnum\n",
    "    if debug: print(f'obli: {obli}')\n",
    "    \n",
    "    #right ascension of the sun\n",
    "    tmpx = math.cos(obli) * math.sin(ecli)\n",
    "    tmpy = math.cos(ecli)\n",
    "    rasc = math.atan2(tmpx,tmpy)\n",
    "    \n",
    "    if debug: print(f'rasc: {rasc}')\n",
    "        \n",
    "    #declination\n",
    "    decl = math.asin(math.sin(obli) * math.sin(ecli))\n",
    "    if debug: print(f'decl: {decl}')\n",
    "    \n",
    "    #local sidereal time\n",
    "    stim = number_range(4.894961213 + 6.300388099 * dnum + rlon ,0,tau)\n",
    "    if debug: print(f'stim: {stim}')\n",
    "    \n",
    "    #hour angle of sun\n",
    "    hang = number_range(stim - rasc,0,tau)\n",
    "    if debug: print(f'hang: {hang}')\n",
    "    \n",
    "    # local elevation of sun\n",
    "    tmpx = math.cos(decl) *math.cos(rlat) *math.cos(hang)\n",
    "    elevation = math.asin(math.sin(decl) * math.sin(rlat) +tmpx )\n",
    "    if debug: print(f'elevation: {elevation}')\n",
    "    \n",
    "    #local azimuth of the sun\n",
    "    tmpx = -math.cos(decl) * math.cos(rlat) * math.sin(hang)\n",
    "    tmpy =  math.sin(decl) -math.sin(rlat) *math.sin(elevation)\n",
    "    azimuth = math.atan2(tmpx,tmpy)\n",
    "    if debug: print(f'azimuth: {azimuth}')\n",
    "    \n",
    "    # azimuth & elevation in degrees\n",
    "    azi_deg = number_range(azimuth / rpd ,0.0, 360.0)\n",
    "    ele_deg = number_range(elevation / rpd, 0.0, 360.0)\n",
    "    \n",
    "    #refraction correction\n",
    "    targ = (ele_deg +(10.3 / (ele_deg +5.11 ))) * rpd\n",
    "    if debug: print(f'targ: {targ}')\n",
    "        \n",
    "    refraction = (1.02 / math.tan(targ)) / 60.0\n",
    "    \n",
    "    #adjust elevation for refraction\n",
    "    ele_deg_refract = ele_deg + refraction\n",
    "    \n",
    "    return azi_deg, ele_deg_refract, refraction"
   ]
  },
  {
   "cell_type": "code",
   "execution_count": 5,
   "id": "dc0b078a",
   "metadata": {},
   "outputs": [],
   "source": [
    "def sun_position_dnum(dnum, lat, lon, debug=False):\n",
    "    \n",
    "    #constants\n",
    "    tau = math.pi * 2.0\n",
    "    rpd = math.pi / 180.0\n",
    "    \n",
    "    # lat / lon in radians\n",
    "    rlat = lat * rpd\n",
    "    rlon = lon * rpd\n",
    "    if debug: print(f'rlat: {rlat}, rlon:{rlon}')\n",
    "\n",
    "    if debug: print(f'dnum: {dnum}')\n",
    "    \n",
    "    #mean lon of sun\n",
    "    slon =  number_range(dnum * 0.01720279239 + 4.894967873,0, tau)\n",
    "    if debug: print(f'slon: {slon}')\n",
    "    \n",
    "    # mean anomaly of sun\n",
    "    sano = number_range(dnum * 0.01720197034 + 6.240040768 ,0, tau)\n",
    "    if debug: print(f'sano: {sano}')\n",
    "    \n",
    "    # ecliptic lon of the sun\n",
    "    ecli = slon + 0.03342305518 * math.sin(sano) + 0.0003490658504 * math.sin(2*sano)\n",
    "    if debug : print(f'ecli: {ecli}')\n",
    "        \n",
    "    #obliquity of the ecliptic\n",
    "    obli = 0.4090877234 - 0.000000006981317008 * dnum\n",
    "    if debug: print(f'obli: {obli}')\n",
    "    \n",
    "    #right ascension of the sun\n",
    "    tmpx = math.cos(obli) * math.sin(ecli)\n",
    "    tmpy = math.cos(ecli)\n",
    "    rasc = math.atan2(tmpx,tmpy)\n",
    "    \n",
    "    if debug: print(f'rasc: {rasc}')\n",
    "        \n",
    "    #declination\n",
    "    decl = math.asin(math.sin(obli) * math.sin(ecli))\n",
    "    if debug: print(f'decl: {decl}')\n",
    "    \n",
    "    #local sidereal time\n",
    "    stim = number_range(4.894961213 + 6.300388099 * dnum + rlon ,0,tau)\n",
    "    if debug: print(f'stim: {stim}')\n",
    "    \n",
    "    #hour angle of sun\n",
    "    hang = number_range(stim - rasc,0,tau)\n",
    "    if debug: print(f'hang: {hang}')\n",
    "    \n",
    "    # local elevation of sun\n",
    "    tmpx = math.cos(decl) *math.cos(rlat) *math.cos(hang)\n",
    "    elevation = math.asin(math.sin(decl) * math.sin(rlat) +tmpx )\n",
    "    if debug: print(f'elevation: {elevation}')\n",
    "    \n",
    "    #local azimuth of the sun\n",
    "    tmpx = -math.cos(decl) * math.cos(rlat) * math.sin(hang)\n",
    "    tmpy =  math.sin(decl) -math.sin(rlat) *math.sin(elevation)\n",
    "    azimuth = math.atan2(tmpx,tmpy)\n",
    "    if debug: print(f'azimuth: {azimuth}')\n",
    "    \n",
    "    # azimuth & elevation in degrees\n",
    "    azi_deg = number_range(azimuth / rpd ,0.0, 360.0)\n",
    "    ele_deg = number_range(elevation / rpd, 0.0, 360.0)\n",
    "    \n",
    "    if debug: print(f'ele_deg: {ele_deg}')\n",
    "    \n",
    "    #refraction correction\n",
    "    targ = (ele_deg +(10.3 / (ele_deg +5.11 ))) * rpd\n",
    "    if debug: print(f'targ: {targ}')\n",
    "        \n",
    "    refraction = (1.02 / math.tan(targ)) / 60.0\n",
    "    \n",
    "    #adjust elevation for refraction\n",
    "    ele_deg_refract = ele_deg + refraction\n",
    "    \n",
    "    return azi_deg, ele_deg_refract, refraction"
   ]
  },
  {
   "cell_type": "code",
   "execution_count": 51,
   "id": "a3f76543",
   "metadata": {},
   "outputs": [],
   "source": [
    "book_ticks = 1576084148.0"
   ]
  },
  {
   "cell_type": "code",
   "execution_count": 11,
   "id": "42058928",
   "metadata": {},
   "outputs": [],
   "source": [
    "tick_site = 1576058948"
   ]
  },
  {
   "cell_type": "code",
   "execution_count": 12,
   "id": "362799c8",
   "metadata": {},
   "outputs": [
    {
     "data": {
      "text/plain": [
       "1576058948.0"
      ]
     },
     "execution_count": 12,
     "metadata": {},
     "output_type": "execute_result"
    }
   ],
   "source": [
    "ticks = time.mktime((2019,12,11,10,9,8,0,0,0))\n",
    "ticks"
   ]
  },
  {
   "cell_type": "code",
   "execution_count": 13,
   "id": "6c88e748",
   "metadata": {},
   "outputs": [
    {
     "data": {
      "text/plain": [
       "7.0"
      ]
     },
     "execution_count": 13,
     "metadata": {},
     "output_type": "execute_result"
    }
   ],
   "source": [
    "(book_ticks - ticks) / 60 / 60"
   ]
  },
  {
   "cell_type": "code",
   "execution_count": 14,
   "id": "961e3a63",
   "metadata": {},
   "outputs": [
    {
     "data": {
      "text/plain": [
       "0.0"
      ]
     },
     "execution_count": 14,
     "metadata": {},
     "output_type": "execute_result"
    }
   ],
   "source": [
    "(tick_site - ticks)/60/60"
   ]
  },
  {
   "cell_type": "code",
   "execution_count": 44,
   "id": "edd38a44",
   "metadata": {},
   "outputs": [],
   "source": [
    "# ticks = time.mktime((2019,12,11,10,9,8,0,0,0))\n",
    "\n"
   ]
  },
  {
   "cell_type": "raw",
   "id": "789c7283",
   "metadata": {},
   "source": [
    "az, ele, ref = sun_position(ticks,tz_num,lat,lon,True)\n",
    "\n",
    " # 7284.21467592593\n",
    "    \n",
    "print(az, ele, ref)"
   ]
  },
  {
   "cell_type": "code",
   "execution_count": 20,
   "id": "dd4b3391",
   "metadata": {},
   "outputs": [],
   "source": [
    "def dnum_route(year, month, day, hour, mins, sec, tz):\n",
    "    \n",
    "    dy1 = math.floor((month + 9) /12)\n",
    "    dy2 = math.floor(7* (year + dy1 )/4)\n",
    "    dy3 = math.floor(275 * month /9)\n",
    "    dy4 = 367 * year - dy2 + dy3\n",
    "    \n",
    "    utm = hour - tz +mins/60 + sec / 3600\n",
    "    \n",
    "    return dy4 +day  - 730531.5 + utm /24\n",
    "\n",
    "def dnum_dt(dt,tz):\n",
    "    \n",
    "    dy1 = math.floor((dt.month + 9) /12)\n",
    "    dy2 = math.floor(7* (dt.year + dy1 )/4)\n",
    "    dy3 = math.floor(275 * dt.month /9)\n",
    "    dy4 = 367 * dt.year - dy2 + dy3\n",
    "    \n",
    "    utm = dt.hour - tz +dt.minute/60 + dt.second / 3600\n",
    "    \n",
    "    return dy4 +dt.day  - 730531.5 + utm /24"
   ]
  },
  {
   "cell_type": "code",
   "execution_count": 21,
   "id": "e7eadd98",
   "metadata": {},
   "outputs": [
    {
     "data": {
      "text/plain": [
       "7284.214675925926"
      ]
     },
     "execution_count": 21,
     "metadata": {},
     "output_type": "execute_result"
    }
   ],
   "source": [
    "dt_test = datetime(2019,12,11,10,9,8)\n",
    "dnum_dt(dt_test,-7)"
   ]
  },
  {
   "cell_type": "code",
   "execution_count": 7,
   "id": "c437455a",
   "metadata": {},
   "outputs": [
    {
     "data": {
      "text/plain": [
       "7284.214675925926"
      ]
     },
     "execution_count": 7,
     "metadata": {},
     "output_type": "execute_result"
    }
   ],
   "source": [
    "dnum = dnum_route(2019,12,11,10,9,8,-7)\n",
    "tz_num=-7.0\n",
    "lat = 40.6027778\n",
    "lon = -104.7416667\n",
    "dnum"
   ]
  },
  {
   "cell_type": "code",
   "execution_count": 8,
   "id": "df828dd1",
   "metadata": {},
   "outputs": [
    {
     "name": "stdout",
     "output_type": "stream",
     "text": [
      "rlat: 0.7086521580656596, rlon:-1.8280869479415036\n",
      "dnum: 7284.214675925926\n",
      "slon: 4.540094523553108\n",
      "sano: 5.879179429878775\n",
      "ecli: 4.5267034130623935\n",
      "obli: 0.40903686998819305\n",
      "rasc: -1.7727450582417488\n",
      "decl: -0.40159712492436245\n",
      "stim: 4.060845390204861\n",
      "hang: 5.833590448446611\n",
      "elevation: 0.3843864905104998\n",
      "azimuth: 2.6954257399905615\n",
      "ele_deg: 22.0237236080971\n",
      "targ: 0.39101178512733475\n"
     ]
    },
    {
     "data": {
      "text/plain": [
       "(154.43651889238595, 22.064961906859356, 0.0412382987622563)"
      ]
     },
     "execution_count": 8,
     "metadata": {},
     "output_type": "execute_result"
    }
   ],
   "source": [
    "sun_position_dnum(dnum, lat, lon, debug=True)"
   ]
  },
  {
   "cell_type": "code",
   "execution_count": 9,
   "id": "2a96cca5",
   "metadata": {},
   "outputs": [],
   "source": [
    "dnum = dnum_route(2023,5,28,13,0,0,1)\n",
    "lat = 50\n",
    "lon = 0"
   ]
  },
  {
   "cell_type": "code",
   "execution_count": 10,
   "id": "df68564f",
   "metadata": {},
   "outputs": [
    {
     "name": "stdout",
     "output_type": "stream",
     "text": [
      "rlat: 0.8726646259971648, rlon:0.0\n",
      "dnum: 8548.0\n",
      "slon: 1.1479898504099424\n",
      "sano: 2.486035862009942\n",
      "ecli: 1.168027206428651\n",
      "obli: 0.40902804710221563\n",
      "rasc: 1.1360585150543936\n",
      "decl: 0.37459110335950363\n",
      "stim: 1.1479783215873738\n",
      "hang: 0.011919806532979749\n",
      "elevation: 1.072633855603225\n",
      "azimuth: -3.1183743464869362\n",
      "ele_deg: 61.457392888909794\n",
      "targ: 1.0753344107121723\n"
     ]
    },
    {
     "data": {
      "text/plain": [
       "(181.33031100443236, 61.466580106482155, 0.009187217572362988)"
      ]
     },
     "execution_count": 10,
     "metadata": {},
     "output_type": "execute_result"
    }
   ],
   "source": [
    "sun_position_dnum(dnum, lat, lon, debug=True)"
   ]
  },
  {
   "cell_type": "code",
   "execution_count": 66,
   "id": "e6843fad",
   "metadata": {},
   "outputs": [
    {
     "name": "stdout",
     "output_type": "stream",
     "text": [
      "8.512691492500567 65.4495876995191\n",
      "17.27508276386644 76.52147905556853\n",
      "26.488855039885504 87.77369597495903\n",
      "35.77800765689599 99.91432406852698\n",
      "44.691044474392704 113.97790240532908\n",
      "52.54404371613678 131.4679793644978\n",
      "58.22049696744939 154.00635358959812\n",
      "60.253786021843595 181.12914841878103\n",
      "57.891425226828545 208.0180912776857\n",
      "51.996050724196714 230.12948139359708\n",
      "44.031266870368924 247.28955602195913\n",
      "35.07489316070655 261.15747963995636\n"
     ]
    }
   ],
   "source": [
    "# nelson walk\n",
    "lat =51.52371\n",
    "lon = -0.01381\n",
    "\n",
    "for hr in range(6,18,1):\n",
    "    dnum = dnum_route(2023,5,30,hr,0,0,1)\n",
    "    azi, ele, _ = sun_position_dnum(dnum,lat,lon)\n",
    "    \n",
    "    print(ele,azi)"
   ]
  },
  {
   "cell_type": "markdown",
   "id": "8ca12e31",
   "metadata": {},
   "source": [
    "### tests"
   ]
  },
  {
   "cell_type": "code",
   "execution_count": 11,
   "id": "2a1d259f",
   "metadata": {},
   "outputs": [],
   "source": [
    "tests = [\n",
    "    {'source':'book example','lat':40.6027778,'lon':-104.7416667,\n",
    "     'year':2019,'month':12,'day':11,'hour':10,'min':9,'sec':8,'tz':-7,\n",
    "    'expected_elevation':22.064 ,'expected_azimuth':154.436},\n",
    "        {'source':'creation day','lat':50,'lon':0,\n",
    "     'year':2023,'month':5,'day':28,'hour':13,'min':0,'sec':0,'tz':1,\n",
    "    'expected_elevation':61.47 ,'expected_azimuth':181.33}\n",
    "]"
   ]
  },
  {
   "cell_type": "code",
   "execution_count": 12,
   "id": "c70e32d7",
   "metadata": {},
   "outputs": [
    {
     "name": "stdout",
     "output_type": "stream",
     "text": [
      "book example\n",
      "Azi: 0.0005188923859407168, Ele: 0.0009619068593558211\n",
      "creation day\n",
      "Azi: 0.0003110044323477723, Ele: 0.003419893517843775\n"
     ]
    }
   ],
   "source": [
    "for test in tests:\n",
    "    print(test['source'])\n",
    "    dnum = dnum_route(test['year'],test['month'],test['day'],test['hour'],test['min'],test['sec'],test['tz'])\n",
    "    azi, ele, _ = sun_position_dnum(dnum, test['lat'],test['lon'])\n",
    "  \n",
    "    abs_err_azi = abs(azi-test['expected_azimuth'])\n",
    "    abs_err_ele  =abs(ele-test['expected_elevation'])\n",
    "    \n",
    "    print(f'Azi: {abs_err_azi}, Ele: {abs_err_ele}')\n",
    "    assert  abs_err_azi<1\n",
    "    assert  abs_err_ele<1\n",
    "    "
   ]
  },
  {
   "cell_type": "code",
   "execution_count": 13,
   "id": "b21078d7",
   "metadata": {},
   "outputs": [],
   "source": [
    "from datetime import datetime\n",
    "import pytz # $ pip install pytz\n",
    "\n"
   ]
  },
  {
   "cell_type": "code",
   "execution_count": 14,
   "id": "ea3fa955",
   "metadata": {},
   "outputs": [
    {
     "name": "stdout",
     "output_type": "stream",
     "text": [
      "2019-12-11 10:09:08-07:00\n"
     ]
    },
    {
     "data": {
      "text/plain": [
       "(1576084148.0, 0.0)"
      ]
     },
     "execution_count": 14,
     "metadata": {},
     "output_type": "execute_result"
    }
   ],
   "source": [
    "naive_dt = datetime.strptime('2019-12-11 10:09:08', '%Y-%m-%d %H:%M:%S')\n",
    "tz = pytz.timezone('US/Mountain')\n",
    "# tz = pytz.timezone('UTC')\n",
    "\n",
    "mountain_dt = tz.normalize(tz.localize(naive_dt))\n",
    "print(mountain_dt)\n",
    "\n",
    "timestamp = (mountain_dt - datetime(1970, 1, 1, tzinfo=pytz.utc)).total_seconds()\n",
    "timestamp, (timestamp-book_ticks)/60/60"
   ]
  },
  {
   "cell_type": "code",
   "execution_count": 22,
   "id": "fb6377ee",
   "metadata": {},
   "outputs": [],
   "source": [
    "from sun_position import test_sun_position"
   ]
  },
  {
   "cell_type": "code",
   "execution_count": 24,
   "id": "53bb86ae",
   "metadata": {},
   "outputs": [],
   "source": [
    "test_sun_position()"
   ]
  },
  {
   "cell_type": "code",
   "execution_count": null,
   "id": "2dd62d7f",
   "metadata": {},
   "outputs": [],
   "source": []
  }
 ],
 "metadata": {
  "kernelspec": {
   "display_name": "Python 3 (ipykernel)",
   "language": "python",
   "name": "python3"
  },
  "language_info": {
   "codemirror_mode": {
    "name": "ipython",
    "version": 3
   },
   "file_extension": ".py",
   "mimetype": "text/x-python",
   "name": "python",
   "nbconvert_exporter": "python",
   "pygments_lexer": "ipython3",
   "version": "3.9.2"
  }
 },
 "nbformat": 4,
 "nbformat_minor": 5
}
